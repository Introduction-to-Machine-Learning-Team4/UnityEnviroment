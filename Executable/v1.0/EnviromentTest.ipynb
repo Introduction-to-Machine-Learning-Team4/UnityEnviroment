{
 "cells": [
  {
   "cell_type": "markdown",
   "metadata": {},
   "source": [
    "## Usage (Command Line)\n",
    "Run the MLAgent Default Model(PPO/SAC) by Anaconda command prompt under the folder with exe\n",
    "```\n",
    "mlagents-learn <config path> --env=<exe name> --run-id=<run_name>\n",
    "```\n",
    "It should be like\n",
    "```\n",
    "mlagents-learn config\\player_config.yaml --env=\"CRML\" --run-id=test\n",
    "```"
   ]
  },
  {
   "cell_type": "code",
   "execution_count": 2,
   "metadata": {},
   "outputs": [],
   "source": [
    "from mlagents_envs.environment import UnityEnvironment\n",
    "# This is a non-blocking call that only loads the environment.\n",
    "env = UnityEnvironment(file_name=\"CRML\", seed=1, side_channels=[])\n",
    "# Start interacting with the environment.\n",
    "env.reset()\n",
    "behavior_names = env.behavior_specs.keys()"
   ]
  },
  {
   "cell_type": "code",
   "execution_count": null,
   "metadata": {},
   "outputs": [],
   "source": [
    "env.close()"
   ]
  }
 ],
 "metadata": {
  "kernelspec": {
   "display_name": "Python 3.7.10 ('mlagent')",
   "language": "python",
   "name": "python3"
  },
  "language_info": {
   "codemirror_mode": {
    "name": "ipython",
    "version": 3
   },
   "file_extension": ".py",
   "mimetype": "text/x-python",
   "name": "python",
   "nbconvert_exporter": "python",
   "pygments_lexer": "ipython3",
   "version": "3.7.15"
  },
  "orig_nbformat": 4,
  "vscode": {
   "interpreter": {
    "hash": "add02d4cf8c8a1f4086ab0b95639014411458b216e0b1138ae392c4218dbd2e2"
   }
  }
 },
 "nbformat": 4,
 "nbformat_minor": 2
}
